{
 "cells": [
  {
   "cell_type": "markdown",
   "metadata": {},
   "source": [
    "# CSE6040 TOPICS 0 - 5\n",
    "\n",
    "## Fall 2020\n",
    "-----------------------------------------"
   ]
  },
  {
   "cell_type": "markdown",
   "metadata": {},
   "source": [
    "### TOPIC 0: Introduction\n",
    "---------------------------------\n",
    "\n",
    "**Main Goal:** Understand the algorithmic and programming techniques needed to build a basic data analytics pipeline.\n",
    "\n",
    "- **Pipeline:** Phases of data collection, pre-processing and transformation, analysis, and post processing output and visualization.\n",
    "\n",
    "    1.  Start with a raw or unwashed dataset in a form which might make it hard to analyze directly\n",
    "    2. Tidy up the dataset by transforming them in some way\n",
    "    3. Analyze it by creating a mathematical model to explain why the data looks as it does or maybe make predictions from it.\n",
    "    4. The resulting outputs might become inputs again for other analysis, or more likely they might go to some other human decision maker.\n",
    "    \n",
    "\n",
    "**Prerequisites:** Python and Linear Algebra\n",
    "\n",
    "- Linear Algebra will serve as a unifying mathematical language to consider models and algorithms for a variety of common data analysis tasks, including:\n",
    "    - Pattern mininn\n",
    "    - Ranking\n",
    "    - Regression\n",
    "    - Classification,\n",
    "    - Clustering \n",
    "    - Compression.\n",
    "\n",
    "**Success:** Computational thinking and the wilingness to write code!\n",
    "\n",
    "#### Some Course Info:\n",
    "\n",
    "- Notebooks:\n",
    "    - Can be submitted multiple times until due date\n",
    "    - Very useful for learning course material\n",
    "    \n",
    "- Exams:\n",
    "    - Practice exams will be provided\n",
    "    - Can submit exam notebooks multiple times (similar to hw) within your test taking time\n",
    "    - Python syntax is not needed to be memorized for exams\n",
    "    - Exams will have the EXACT same setup as the homework notebooks\n",
    "    - Exams are open book/internet, will only have coding problems/notebooks\n",
    "    - In the past we have allowed a second monitor for exams\n",
    "    \n",
    "- Platform:\n",
    "    - edX for all content and grades\n",
    "    - Piazza for announcements and important discussions\n",
    "    \n",
    "- Work on independent projects:\n",
    "    - **Make a portfolio eventually with a github repo**\n"
   ]
  },
  {
   "cell_type": "markdown",
   "metadata": {},
   "source": [
    "### TOPIC 1: Python Bootcamp\n",
    "\n"
   ]
  },
  {
   "cell_type": "code",
   "execution_count": null,
   "metadata": {},
   "outputs": [],
   "source": []
  },
  {
   "cell_type": "code",
   "execution_count": null,
   "metadata": {},
   "outputs": [],
   "source": []
  },
  {
   "cell_type": "code",
   "execution_count": null,
   "metadata": {},
   "outputs": [],
   "source": []
  },
  {
   "cell_type": "code",
   "execution_count": null,
   "metadata": {},
   "outputs": [],
   "source": []
  },
  {
   "cell_type": "code",
   "execution_count": null,
   "metadata": {},
   "outputs": [],
   "source": []
  }
 ],
 "metadata": {
  "kernelspec": {
   "display_name": "Python 3",
   "language": "python",
   "name": "python3"
  },
  "language_info": {
   "codemirror_mode": {
    "name": "ipython",
    "version": 3
   },
   "file_extension": ".py",
   "mimetype": "text/x-python",
   "name": "python",
   "nbconvert_exporter": "python",
   "pygments_lexer": "ipython3",
   "version": "3.8.3"
  }
 },
 "nbformat": 4,
 "nbformat_minor": 4
}
